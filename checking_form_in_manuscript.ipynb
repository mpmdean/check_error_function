{
 "cells": [
  {
   "cell_type": "code",
   "execution_count": 1,
   "metadata": {},
   "outputs": [],
   "source": [
    "import numpy as np\n",
    "from sympy import integrate, exp, symbols, frac, Rational, erf\n",
    "from sympy.plotting import plot\n",
    "import matplotlib.pyplot as plt\n",
    "\n",
    "from sympy import init_printing\n",
    "\n",
    "init_printing()"
   ]
  },
  {
   "cell_type": "markdown",
   "metadata": {},
   "source": [
    "The paper writes"
   ]
  },
  {
   "cell_type": "code",
   "execution_count": 2,
   "metadata": {},
   "outputs": [
    {
     "data": {
      "image/png": "[encoded data removed]",
      "text/latex": [
       "$\\displaystyle A + \\left(1 - A\\right) \\left(- \\frac{\\sqrt{\\pi} \\operatorname{erf}{\\left(\\frac{t}{\\sigma} \\right)}}{2} + \\frac{1}{2}\\right)$"
      ],
      "text/plain": [
       "            ⎛        ⎛  t   ⎞    ⎞\n",
       "            ⎜  √π⋅erf⎜──────⎟    ⎟\n",
       "            ⎜        ⎝\\sigma⎠   1⎟\n",
       "A + (1 - A)⋅⎜- ────────────── + ─⎟\n",
       "            ⎝        2          2⎠"
      ]
     },
     "execution_count": 2,
     "metadata": {},
     "output_type": "execute_result"
    }
   ],
   "source": [
    "A, t, sigma, x = symbols('A t \\sigma, x')\n",
    "\n",
    "func = A + (1 - A)*( Rational(1, 2) - integrate(exp(-x**2), (x, 0, t/sigma)) ) \n",
    "func"
   ]
  },
  {
   "cell_type": "code",
   "execution_count": 3,
   "metadata": {},
   "outputs": [
    {
     "data": {
      "image/png": "[encoded data removed]",
      "text/plain": [
       "<Figure size 432x288 with 1 Axes>"
      ]
     },
     "metadata": {
      "needs_background": "light"
     },
     "output_type": "display_data"
    },
    {
     "data": {
      "text/plain": [
       "<sympy.plotting.plot.Plot at 0x11a4d9710>"
      ]
     },
     "execution_count": 3,
     "metadata": {},
     "output_type": "execute_result"
    }
   ],
   "source": [
    "A_val = 0.6\n",
    "func_subs = func.subs([(A, A_val), (sigma, 0.1)])\n",
    "\n",
    "plot(func_subs, (t, -1, 1))"
   ]
  },
  {
   "cell_type": "code",
   "execution_count": 4,
   "metadata": {},
   "outputs": [
    {
     "name": "stdout",
     "output_type": "stream",
     "text": [
      "The function for A=0.6 goes from 1.154 to 0.446\n"
     ]
    }
   ],
   "source": [
    "negative_limit = func_subs.evalf(subs=dict(t=-1e9))\n",
    "positive_limit = func_subs.evalf(subs=dict(t=1e9))\n",
    "\n",
    "print(f\"The function for A={A_val} goes from {negative_limit:.3f} to {positive_limit:.3f}\")"
   ]
  },
  {
   "cell_type": "code",
   "execution_count": null,
   "metadata": {},
   "outputs": [],
   "source": []
  }
 ],
 "metadata": {
  "kernelspec": {
   "display_name": "Python 3",
   "language": "python",
   "name": "python3"
  },
  "language_info": {
   "codemirror_mode": {
    "name": "ipython",
    "version": 3
   },
   "file_extension": ".py",
   "mimetype": "text/x-python",
   "name": "python",
   "nbconvert_exporter": "python",
   "pygments_lexer": "ipython3",
   "version": "3.7.3"
  }
 },
 "nbformat": 4,
 "nbformat_minor": 4
}
